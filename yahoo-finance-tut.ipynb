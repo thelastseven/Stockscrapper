{
 "cells": [
  {
   "cell_type": "markdown",
   "metadata": {},
   "source": [
    "# Yahoo! Finance Scraper\n",
    "Extract financial data and historical stock prices from Yahoo! Finance using background java strings and a hidden api."
   ]
  },
  {
   "cell_type": "code",
   "execution_count": 2,
   "metadata": {},
   "outputs": [],
   "source": [
    "import re\n",
    "import json\n",
    "import csv\n",
    "from io import StringIO\n",
    "from bs4 import BeautifulSoup\n",
    "import requests"
   ]
  },
  {
   "cell_type": "markdown",
   "metadata": {},
   "source": [
    "- First, navigate to [https://finance.yahoo.com/](https://finance.yahoo.com/) and enter the stock you want to look up.  \n",
    "- You'll noticed several tabs along the page such as \"Stats\", \"Chart\", \"Financials\", \"Analysis\", etc...  \n",
    "- Navigate to the \"Financials\" tab. Notice that the **Income Statement** and the **Balance Sheet** are available as well as **Annual** and **Quarterly** options.  \n",
    "- Copy the url for this tab, and for \"Profile\" and \"Financials\". We are going to scrape the data from these 3 tabs first.  \n",
    "\n",
    "Replace the stock symbol in the url with a curly brace to turn it into a template."
   ]
  },
  {
   "cell_type": "code",
   "execution_count": 3,
   "metadata": {},
   "outputs": [],
   "source": [
    "# url templates\n",
    "url_stats = 'https://finance.yahoo.com/quote/{}/key-statistics?p={}'\n",
    "url_profile = 'https://finance.yahoo.com/quote/{}/profile?p={}'\n",
    "url_financials = 'https://finance.yahoo.com/quote/{}/financials?p={}'\n",
    "\n",
    "# the stock I want to scrape\n",
    "stock = 'F'"
   ]
  },
  {
   "cell_type": "markdown",
   "metadata": {},
   "source": [
    "## Extracting and parsing the html & json data"
   ]
  },
  {
   "cell_type": "markdown",
   "metadata": {},
   "source": [
    "Now, use the \"Financials\" template to request the webpage, passing in the stock variable to fill in the url template."
   ]
  },
  {
   "cell_type": "code",
   "execution_count": 4,
   "metadata": {},
   "outputs": [],
   "source": [
    "response = requests.get(url_financials.format(stock, stock))"
   ]
  },
  {
   "cell_type": "markdown",
   "metadata": {},
   "source": [
    "Next, parse the html using `BeautifulSoup`"
   ]
  },
  {
   "cell_type": "code",
   "execution_count": 5,
   "metadata": {},
   "outputs": [],
   "source": [
    "soup = BeautifulSoup(response.text, 'html.parser')"
   ]
  },
  {
   "cell_type": "markdown",
   "metadata": {},
   "source": [
    "If you were to look at the raw html, you would notice that there is a lot of javascript code and not a lot of html to work with. You may also notice that embedded in the code there are json formatted text strings. Fortunately for us, there is a javascript function, appropriately commented with \"--Data--\". This function is located inside of a generic \"script\" tag. However, we can use regular expressions with BeautifulSoup in order to identify the script tag with the function we're looking for."
   ]
  },
  {
   "cell_type": "code",
   "execution_count": 6,
   "metadata": {},
   "outputs": [],
   "source": [
    "pattern = re.compile(r'\\s--\\sData\\s--\\s')\n",
    "script_data = soup.find('script', text=pattern).contents[0]"
   ]
  },
  {
   "cell_type": "markdown",
   "metadata": {},
   "source": [
    "There's a lot of good json data here, but it's wrapped in a javascript function, as you can clearly see. However, if we can identify the starting and ending position of this json data, we can slice it and then parse it with the `json.loads` function."
   ]
  },
  {
   "cell_type": "code",
   "execution_count": 7,
   "metadata": {},
   "outputs": [
    {
     "output_type": "execute_result",
     "data": {
      "text/plain": [
       "'\\n(function (root) {\\n/* -- Data -- */\\nroot.App || (root.App = {});\\nroot.App.now = 1620138917150;\\nroot.App.main = {\"context\":{\"dispatcher\":{\"stores\":{\"PageStore\":{\"currentPageName\":\"quote\",\"currentEvent\":{\"eventName\":\"NEW_PAGE_SUCCESS\"},\"currentRenderTargetId\":\"default\",\"pagesConfigRaw\":{\"base\":{\"quote\":{\"layout\":{\"bundleName\":\"yahoodotcom-layout.TwoColumnLayout\",\"name\":\"TwoColumnLayout\",\"config\":{\"enableHeaderCollapse\":true,\"additionalBodyWrapperClasses\":\"Bgc($layoutBgColor)!\",\"contentWrapperClas'"
      ]
     },
     "metadata": {},
     "execution_count": 7
    }
   ],
   "source": [
    "# beginning\n",
    "script_data[:500]"
   ]
  },
  {
   "cell_type": "code",
   "execution_count": 8,
   "metadata": {},
   "outputs": [
    {
     "output_type": "execute_result",
     "data": {
      "text/plain": [
       "'put\":{\"strings\":1},\"tdv2-applet-sponsored-moments\":{\"strings\":1},\"tdv2-applet-stream\":{\"strings\":1},\"tdv2-applet-stream-hero\":{\"strings\":1},\"tdv2-applet-swisschamp\":{\"strings\":1},\"tdv2-applet-uh\":{\"strings\":1},\"tdv2-applet-userintent\":{\"strings\":1},\"tdv2-applet-video-lightbox\":{\"strings\":1},\"tdv2-applet-video-modal\":{\"strings\":1},\"tdv2-wafer-adfeedback\":{\"strings\":1},\"tdv2-wafer-header\":{\"strings\":1},\"yahoodotcom-layout\":{\"strings\":1}}},\"options\":{\"defaultBundle\":\"td-app-finance\"}}}};\\n}(this));\\n'"
      ]
     },
     "metadata": {},
     "execution_count": 8
    }
   ],
   "source": [
    "# the end\n",
    "script_data[-500:]"
   ]
  },
  {
   "cell_type": "code",
   "execution_count": 9,
   "metadata": {},
   "outputs": [],
   "source": [
    "# find the starting position of the json string\n",
    "start = script_data.find(\"context\")-2\n",
    "\n",
    "# slice the json string\n",
    "json_data = json.loads(script_data[start:-12])"
   ]
  },
  {
   "cell_type": "markdown",
   "metadata": {},
   "source": [
    "## Financial statements"
   ]
  },
  {
   "cell_type": "markdown",
   "metadata": {},
   "source": [
    "Now that you have the data, you can explore the dictionary to discover what's inside. This dataset contains both Annual and Quarterly financial statements, as you can see from the dictionary paths listed below."
   ]
  },
  {
   "cell_type": "code",
   "execution_count": 10,
   "metadata": {},
   "outputs": [
    {
     "output_type": "execute_result",
     "data": {
      "text/plain": [
       "dict_keys(['dispatcher', 'options', 'plugins'])"
      ]
     },
     "metadata": {},
     "execution_count": 10
    }
   ],
   "source": [
    "json_data['context'].keys()"
   ]
  },
  {
   "cell_type": "code",
   "execution_count": 11,
   "metadata": {},
   "outputs": [
    {
     "output_type": "execute_result",
     "data": {
      "text/plain": [
       "dict_keys(['financialsTemplate', 'cashflowStatementHistory', 'balanceSheetHistoryQuarterly', 'earnings', 'price', 'incomeStatementHistoryQuarterly', 'incomeStatementHistory', 'balanceSheetHistory', 'cashflowStatementHistoryQuarterly', 'quoteType', 'summaryDetail', 'symbol', 'pageViews'])"
      ]
     },
     "metadata": {},
     "execution_count": 11
    }
   ],
   "source": [
    "json_data['context']['dispatcher']['stores']['QuoteSummaryStore'].keys()"
   ]
  },
  {
   "cell_type": "code",
   "execution_count": 12,
   "metadata": {},
   "outputs": [],
   "source": [
    "# income statement\n",
    "annual_is = json_data['context']['dispatcher']['stores']['QuoteSummaryStore']['incomeStatementHistory']['incomeStatementHistory']\n",
    "quarterly_is = json_data['context']['dispatcher']['stores']['QuoteSummaryStore']['incomeStatementHistoryQuarterly']['incomeStatementHistory']\n",
    "\n",
    "# cash flow statement\n",
    "annual_cf = json_data['context']['dispatcher']['stores']['QuoteSummaryStore']['cashflowStatementHistory']['cashflowStatements']\n",
    "quarterly_cf = json_data['context']['dispatcher']['stores']['QuoteSummaryStore']['cashflowStatementHistoryQuarterly']['cashflowStatements']\n",
    "\n",
    "# balance sheet\n",
    "annual_bs = json_data['context']['dispatcher']['stores']['QuoteSummaryStore']['balanceSheetHistory']['balanceSheetStatements']\n",
    "quarterly_bs = json_data['context']['dispatcher']['stores']['QuoteSummaryStore']['balanceSheetHistoryQuarterly']['balanceSheetStatements']"
   ]
  },
  {
   "cell_type": "code",
   "execution_count": 13,
   "metadata": {},
   "outputs": [
    {
     "output_type": "stream",
     "name": "stdout",
     "text": [
      "{'researchDevelopment': {}, 'effectOfAccountingCharges': {}, 'incomeBeforeTax': {'raw': -1116000000, 'fmt': '-1.12B', 'longFmt': '-1,116,000,000'}, 'minorityInterest': {'raw': 121000000, 'fmt': '121M', 'longFmt': '121,000,000'}, 'netIncome': {'raw': -1279000000, 'fmt': '-1.28B', 'longFmt': '-1,279,000,000'}, 'sellingGeneralAdministrative': {'raw': 8628000000, 'fmt': '8.63B', 'longFmt': '8,628,000,000'}, 'grossProfit': {'raw': 6123000000, 'fmt': '6.12B', 'longFmt': '6,123,000,000'}, 'ebit': {'raw': -2505000000, 'fmt': '-2.5B', 'longFmt': '-2,505,000,000'}, 'endDate': {'raw': 1609372800, 'fmt': '2020-12-31'}, 'operatingIncome': {'raw': -2505000000, 'fmt': '-2.5B', 'longFmt': '-2,505,000,000'}, 'otherOperatingExpenses': {}, 'interestExpense': {'raw': -1651000000, 'fmt': '-1.65B', 'longFmt': '-1,651,000,000'}, 'extraordinaryItems': {}, 'nonRecurring': {}, 'otherItems': {}, 'incomeTaxExpense': {'raw': 160000000, 'fmt': '160M', 'longFmt': '160,000,000'}, 'totalRevenue': {'raw': 127144000000, 'fmt': '127.14B', 'longFmt': '127,144,000,000'}, 'totalOperatingExpenses': {'raw': 129649000000, 'fmt': '129.65B', 'longFmt': '129,649,000,000'}, 'costOfRevenue': {'raw': 121021000000, 'fmt': '121.02B', 'longFmt': '121,021,000,000'}, 'totalOtherIncomeExpenseNet': {'raw': 1389000000, 'fmt': '1.39B', 'longFmt': '1,389,000,000'}, 'maxAge': 1, 'discontinuedOperations': {}, 'netIncomeFromContinuingOps': {'raw': -1276000000, 'fmt': '-1.28B', 'longFmt': '-1,276,000,000'}, 'netIncomeApplicableToCommonShares': {'raw': -1279000000, 'fmt': '-1.28B', 'longFmt': '-1,279,000,000'}}\n"
     ]
    }
   ],
   "source": [
    "# example of income statmement accounts\n",
    "print(annual_is[0])"
   ]
  },
  {
   "cell_type": "code",
   "execution_count": 14,
   "metadata": {},
   "outputs": [
    {
     "output_type": "execute_result",
     "data": {
      "text/plain": [
       "{'raw': -2505000000, 'fmt': '-2.5B', 'longFmt': '-2,505,000,000'}"
      ]
     },
     "metadata": {},
     "execution_count": 14
    }
   ],
   "source": [
    "# there's a variety of  number formats provided\n",
    "annual_is[0]['operatingIncome']"
   ]
  },
  {
   "cell_type": "markdown",
   "metadata": {},
   "source": [
    "The data can be consoldated into an easy to read, or export, data set with a loop"
   ]
  },
  {
   "cell_type": "code",
   "execution_count": 15,
   "metadata": {},
   "outputs": [],
   "source": [
    "annual_is_stmts = []\n",
    "\n",
    "# consolidate annual\n",
    "for s in annual_is:\n",
    "    statement = {}\n",
    "    for key, val in s.items():\n",
    "        try:\n",
    "            statement[key] = val['raw']\n",
    "        except TypeError:\n",
    "            continue\n",
    "        except KeyError:\n",
    "            continue\n",
    "    annual_is_stmts.append(statement)"
   ]
  },
  {
   "cell_type": "code",
   "execution_count": 16,
   "metadata": {},
   "outputs": [
    {
     "output_type": "execute_result",
     "data": {
      "text/plain": [
       "{'incomeBeforeTax': -1116000000,\n",
       " 'minorityInterest': 121000000,\n",
       " 'netIncome': -1279000000,\n",
       " 'sellingGeneralAdministrative': 8628000000,\n",
       " 'grossProfit': 6123000000,\n",
       " 'ebit': -2505000000,\n",
       " 'endDate': 1609372800,\n",
       " 'operatingIncome': -2505000000,\n",
       " 'interestExpense': -1651000000,\n",
       " 'incomeTaxExpense': 160000000,\n",
       " 'totalRevenue': 127144000000,\n",
       " 'totalOperatingExpenses': 129649000000,\n",
       " 'costOfRevenue': 121021000000,\n",
       " 'totalOtherIncomeExpenseNet': 1389000000,\n",
       " 'netIncomeFromContinuingOps': -1276000000,\n",
       " 'netIncomeApplicableToCommonShares': -1279000000}"
      ]
     },
     "metadata": {},
     "execution_count": 16
    }
   ],
   "source": [
    "annual_is_stmts[0]"
   ]
  },
  {
   "cell_type": "markdown",
   "metadata": {},
   "source": [
    "This model can be applied to all other financial statements, as you can see from the examples below."
   ]
  },
  {
   "cell_type": "code",
   "execution_count": 17,
   "metadata": {},
   "outputs": [],
   "source": [
    "annual_cf_stmts = []\n",
    "quarterly_cf_stmts = []\n",
    "\n",
    "# annual\n",
    "for s in annual_cf:\n",
    "    statement = {}\n",
    "    for key, val in s.items():\n",
    "        try:\n",
    "            statement[key] = val['raw']\n",
    "        except TypeError:\n",
    "            continue\n",
    "        except KeyError:\n",
    "            continue\n",
    "    annual_cf_stmts.append(statement)\n",
    "    \n",
    "# quarterly\n",
    "for s in quarterly_cf:\n",
    "    statement = {}\n",
    "    for key, val in s.items():\n",
    "        try:\n",
    "            statement[key] = val['raw']\n",
    "        except TypeError:\n",
    "            continue\n",
    "        except KeyError:\n",
    "            continue\n",
    "    quarterly_cf_stmts.append(statement)"
   ]
  },
  {
   "cell_type": "code",
   "execution_count": 17,
   "metadata": {},
   "outputs": [
    {
     "data": {
      "text/plain": [
       "{'investments': -543000000,\n",
       " 'changeToLiabilities': 5260000000,\n",
       " 'totalCashflowsFromInvestingActivities': -13721000000,\n",
       " 'netBorrowings': -277000000,\n",
       " 'totalCashFromFinancingActivities': -3129000000,\n",
       " 'changeToOperatingActivities': 1554000000,\n",
       " 'netIncome': 47000000,\n",
       " 'changeInCash': 834000000,\n",
       " 'endDate': 1577750400,\n",
       " 'repurchaseOfStock': -237000000,\n",
       " 'effectOfExchangeRate': 45000000,\n",
       " 'totalCashFromOperatingActivities': 17639000000,\n",
       " 'depreciation': 8490000000,\n",
       " 'otherCashflowsFromInvestingActivities': -152000000,\n",
       " 'dividendsPaid': -2389000000,\n",
       " 'changeToInventory': 206000000,\n",
       " 'changeToAccountReceivables': -816000000,\n",
       " 'otherCashflowsFromFinancingActivities': -226000000,\n",
       " 'changeToNetincome': 2898000000,\n",
       " 'capitalExpenditures': -7632000000}"
      ]
     },
     "execution_count": 17,
     "metadata": {},
     "output_type": "execute_result"
    }
   ],
   "source": [
    "annual_cf_stmts[0]"
   ]
  },
  {
   "cell_type": "markdown",
   "metadata": {},
   "source": [
    "## Profile Data\n",
    "\n",
    "We can copy the same steps from the Financial statements on the Profile data"
   ]
  },
  {
   "cell_type": "code",
   "execution_count": 18,
   "metadata": {},
   "outputs": [],
   "source": [
    "response = requests.get(url_profile.format(stock, stock))\n",
    "soup = BeautifulSoup(response.text, 'html.parser')\n",
    "pattern = re.compile(r'\\s--\\sData\\s--\\s')\n",
    "script_data = soup.find('script', text=pattern).contents[0]\n",
    "start = script_data.find(\"context\")-2\n",
    "json_data = json.loads(script_data[start:-12])"
   ]
  },
  {
   "cell_type": "code",
   "execution_count": 19,
   "metadata": {},
   "outputs": [
    {
     "output_type": "execute_result",
     "data": {
      "text/plain": [
       "dict_keys(['financialsTemplate', 'price', 'secFilings', 'quoteType', 'calendarEvents', 'summaryDetail', 'symbol', 'assetProfile', 'pageViews'])"
      ]
     },
     "metadata": {},
     "execution_count": 19
    }
   ],
   "source": [
    "json_data['context']['dispatcher']['stores']['QuoteSummaryStore'].keys()"
   ]
  },
  {
   "cell_type": "code",
   "execution_count": 20,
   "metadata": {},
   "outputs": [
    {
     "output_type": "execute_result",
     "data": {
      "text/plain": [
       "dict_keys(['zip', 'sector', 'fullTimeEmployees', 'compensationRisk', 'auditRisk', 'longBusinessSummary', 'city', 'phone', 'state', 'shareHolderRightsRisk', 'compensationAsOfEpochDate', 'governanceEpochDate', 'boardRisk', 'country', 'companyOfficers', 'website', 'maxAge', 'overallRisk', 'address1', 'industry'])"
      ]
     },
     "metadata": {},
     "execution_count": 20
    }
   ],
   "source": [
    "json_data['context']['dispatcher']['stores']['QuoteSummaryStore']['assetProfile'].keys()"
   ]
  },
  {
   "cell_type": "code",
   "execution_count": 26,
   "metadata": {},
   "outputs": [
    {
     "data": {
      "text/plain": [
       "[{'totalPay': {'raw': 3661316, 'fmt': '3.66M', 'longFmt': '3,661,316'},\n",
       "  'exercisedValue': {'raw': 0, 'fmt': None, 'longFmt': '0'},\n",
       "  'yearBorn': 1957,\n",
       "  'name': 'Mr. William Clay Ford Jr.',\n",
       "  'title': 'Exec. Chairman',\n",
       "  'maxAge': 1,\n",
       "  'fiscalYear': 2019,\n",
       "  'unexercisedValue': {'raw': 0, 'fmt': None, 'longFmt': '0'},\n",
       "  'age': 62},\n",
       " {'totalPay': {'raw': 4167237, 'fmt': '4.17M', 'longFmt': '4,167,237'},\n",
       "  'exercisedValue': {'raw': 0, 'fmt': None, 'longFmt': '0'},\n",
       "  'yearBorn': 1955,\n",
       "  'name': 'Mr. James Patrick Hackett',\n",
       "  'title': 'Pres, CEO & Director',\n",
       "  'maxAge': 1,\n",
       "  'fiscalYear': 2019,\n",
       "  'unexercisedValue': {'raw': 0, 'fmt': None, 'longFmt': '0'},\n",
       "  'age': 64},\n",
       " {'totalPay': {'raw': 4018261, 'fmt': '4.02M', 'longFmt': '4,018,261'},\n",
       "  'exercisedValue': {'raw': 0, 'fmt': None, 'longFmt': '0'},\n",
       "  'yearBorn': 1967,\n",
       "  'name': 'Mr. Timothy R. Stone',\n",
       "  'title': 'Chief Financial Officer',\n",
       "  'maxAge': 1,\n",
       "  'fiscalYear': 2019,\n",
       "  'unexercisedValue': {'raw': 0, 'fmt': None, 'longFmt': '0'},\n",
       "  'age': 52}]"
      ]
     },
     "execution_count": 26,
     "metadata": {},
     "output_type": "execute_result"
    }
   ],
   "source": [
    "# data for company officers (just the first 3 are listed for brevity )\n",
    "json_data['context']['dispatcher']['stores']['QuoteSummaryStore']['assetProfile']['companyOfficers'][:3]"
   ]
  },
  {
   "cell_type": "code",
   "execution_count": 21,
   "metadata": {},
   "outputs": [
    {
     "output_type": "execute_result",
     "data": {
      "text/plain": [
       "'Ford Motor Company designs, manufactures, markets, and services a range of Ford trucks, cars, sport utility vehicles, electrified vehicles, and Lincoln luxury vehicles worldwide. It operates through three segments: Automotive, Mobility, and Ford Credit. The Automotive segment sells Ford and Lincoln vehicles, service parts, and accessories through distributors and dealers, as well as through dealerships to commercial fleet customers, daily rental car companies, and governments. The Mobility segment designs and builds mobility services; and provides self-driving systems development services. The Ford Credit segment primarily engages in vehicle-related financing and leasing activities to and through automotive dealers. It provides retail installment sale contracts for new and used vehicles; and direct financing leases for new vehicles to retail and commercial customers, such as leasing companies, government entities, daily rental companies, and fleet customers. This segment also offers wholesale loans to dealers to finance the purchase of vehicle inventory; and loans to dealers to finance working capital and enhance dealership facilities, purchase dealership real estate, and other dealer vehicle programs. Ford Motor Company has a strategic collaboration with ARB Corporation Limited to develop a suite of aftermarket products for the new Ford Bronco. The company was founded in 1903 and is based in Dearborn, Michigan.'"
      ]
     },
     "metadata": {},
     "execution_count": 21
    }
   ],
   "source": [
    "# business description\n",
    "json_data['context']['dispatcher']['stores']['QuoteSummaryStore']['assetProfile']['longBusinessSummary']"
   ]
  },
  {
   "cell_type": "code",
   "execution_count": 22,
   "metadata": {},
   "outputs": [
    {
     "output_type": "execute_result",
     "data": {
      "text/plain": [
       "[{'date': '2021-04-29',\n",
       "  'epochDate': 1619694715,\n",
       "  'type': '10-Q',\n",
       "  'title': 'Quarterly Report',\n",
       "  'edgarUrl': 'https://yahoo.brand.edgar-online.com/DisplayFiling.aspx?TabIndex=2&dcn=0000037996-21-000026&nav=1&src=Yahoo',\n",
       "  'maxAge': 1},\n",
       " {'date': '2021-04-28',\n",
       "  'epochDate': 1619644387,\n",
       "  'type': '8-K',\n",
       "  'title': 'Results of Operations and Financial Condition, Financial Statements and Exhibits',\n",
       "  'edgarUrl': 'https://yahoo.brand.edgar-online.com/DisplayFiling.aspx?TabIndex=2&dcn=0000037996-21-000025&nav=1&src=Yahoo',\n",
       "  'maxAge': 1},\n",
       " {'date': '2021-04-14',\n",
       "  'epochDate': 1618434853,\n",
       "  'type': '8-K',\n",
       "  'title': 'Other Events, Financial Statements and Exhibits',\n",
       "  'edgarUrl': 'https://yahoo.brand.edgar-online.com/DisplayFiling.aspx?TabIndex=2&dcn=0000037996-21-000022&nav=1&src=Yahoo',\n",
       "  'maxAge': 1}]"
      ]
     },
     "metadata": {},
     "execution_count": 22
    }
   ],
   "source": [
    "# sec filings from Edgars ( just the first 3 are listed for brevity )\n",
    "json_data['context']['dispatcher']['stores']['QuoteSummaryStore']['secFilings']['filings'][:3]"
   ]
  },
  {
   "cell_type": "code",
   "execution_count": 27,
   "metadata": {},
   "outputs": [
    {
     "data": {
      "text/plain": [
       "{'previousClose': {'raw': 7.04, 'fmt': '7.04'},\n",
       " 'regularMarketOpen': {'raw': 7.05, 'fmt': '7.05'},\n",
       " 'twoHundredDayAverage': {'raw': 6.0061593, 'fmt': '6.01'},\n",
       " 'trailingAnnualDividendYield': {'raw': 0.06392045, 'fmt': '6.39%'},\n",
       " 'payoutRatio': {},\n",
       " 'volume24Hr': {},\n",
       " 'regularMarketDayHigh': {'raw': 7.12, 'fmt': '7.12'},\n",
       " 'navPrice': {},\n",
       " 'averageDailyVolume10Day': {'raw': 64910450,\n",
       "  'fmt': '64.91M',\n",
       "  'longFmt': '64,910,450'},\n",
       " 'totalAssets': {},\n",
       " 'regularMarketPreviousClose': {'raw': 7.04, 'fmt': '7.04'},\n",
       " 'fiftyDayAverage': {'raw': 6.9228573, 'fmt': '6.92'},\n",
       " 'trailingAnnualDividendRate': {'raw': 0.45, 'fmt': '0.45'},\n",
       " 'open': {'raw': 7.05, 'fmt': '7.05'},\n",
       " 'toCurrency': None,\n",
       " 'averageVolume10days': {'raw': 64910450,\n",
       "  'fmt': '64.91M',\n",
       "  'longFmt': '64,910,450'},\n",
       " 'expireDate': {},\n",
       " 'yield': {},\n",
       " 'algorithm': None,\n",
       " 'dividendRate': {},\n",
       " 'exDividendDate': {'raw': 1580256000, 'fmt': '2020-01-29'},\n",
       " 'beta': {'raw': 1.323299, 'fmt': '1.32'},\n",
       " 'circulatingSupply': {},\n",
       " 'startDate': {},\n",
       " 'regularMarketDayLow': {'raw': 6.99, 'fmt': '6.99'},\n",
       " 'priceHint': {'raw': 2, 'fmt': '2', 'longFmt': '2'},\n",
       " 'currency': 'USD',\n",
       " 'regularMarketVolume': {'raw': 45529000,\n",
       "  'fmt': '45.53M',\n",
       "  'longFmt': '45,529,000'},\n",
       " 'lastMarket': None,\n",
       " 'maxSupply': {},\n",
       " 'openInterest': {},\n",
       " 'marketCap': {'raw': 27928297472,\n",
       "  'fmt': '27.93B',\n",
       "  'longFmt': '27,928,297,472'},\n",
       " 'volumeAllCurrencies': {},\n",
       " 'strikePrice': {},\n",
       " 'averageVolume': {'raw': 67381340, 'fmt': '67.38M', 'longFmt': '67,381,340'},\n",
       " 'priceToSalesTrailing12Months': {'raw': 0.21418063, 'fmt': '0.21'},\n",
       " 'dayLow': {'raw': 6.99, 'fmt': '6.99'},\n",
       " 'ask': {'raw': 7.07, 'fmt': '7.07'},\n",
       " 'ytdReturn': {},\n",
       " 'askSize': {'raw': 45900, 'fmt': '45.9k', 'longFmt': '45,900'},\n",
       " 'volume': {'raw': 45529000, 'fmt': '45.53M', 'longFmt': '45,529,000'},\n",
       " 'fiftyTwoWeekHigh': {'raw': 9.6, 'fmt': '9.60'},\n",
       " 'forwardPE': {'raw': 9.887324, 'fmt': '9.89'},\n",
       " 'maxAge': 1,\n",
       " 'fromCurrency': None,\n",
       " 'fiveYearAvgDividendYield': {'raw': 5.93, 'fmt': '5.93'},\n",
       " 'fiftyTwoWeekLow': {'raw': 3.96, 'fmt': '3.96'},\n",
       " 'bid': {'raw': 7.05, 'fmt': '7.05'},\n",
       " 'tradeable': False,\n",
       " 'dividendYield': {},\n",
       " 'bidSize': {'raw': 47300, 'fmt': '47.3k', 'longFmt': '47,300'},\n",
       " 'dayHigh': {'raw': 7.12, 'fmt': '7.12'}}"
      ]
     },
     "execution_count": 27,
     "metadata": {},
     "output_type": "execute_result"
    }
   ],
   "source": [
    "# lot of other data is available\n",
    "json_data['context']['dispatcher']['stores']['QuoteSummaryStore']['summaryDetail']"
   ]
  },
  {
   "cell_type": "markdown",
   "metadata": {},
   "source": [
    "# Statistics"
   ]
  },
  {
   "cell_type": "code",
   "execution_count": 23,
   "metadata": {},
   "outputs": [],
   "source": [
    "response = requests.get(url_stats.format(stock, stock))\n",
    "soup = BeautifulSoup(response.text, 'html.parser')\n",
    "pattern = re.compile(r'\\s--\\sData\\s--\\s')\n",
    "script_data = soup.find('script', text=pattern).contents[0]\n",
    "start = script_data.find(\"context\")-2\n",
    "json_data = json.loads(script_data[start:-12])"
   ]
  },
  {
   "cell_type": "code",
   "execution_count": 29,
   "metadata": {},
   "outputs": [
    {
     "data": {
      "text/plain": [
       "{'annualHoldingsTurnover': {},\n",
       " 'enterpriseToRevenue': {'raw': 1.266, 'fmt': '1.27'},\n",
       " 'beta3Year': {},\n",
       " 'profitMargins': {'raw': -0.016280001, 'fmt': '-1.63%'},\n",
       " 'enterpriseToEbitda': {'raw': 26.996, 'fmt': '27.00'},\n",
       " '52WeekChange': {'raw': -0.2389189, 'fmt': '-23.89%'},\n",
       " 'morningStarRiskRating': {},\n",
       " 'forwardEps': {'raw': 0.71, 'fmt': '0.71'},\n",
       " 'revenueQuarterlyGrowth': {},\n",
       " 'sharesOutstanding': {'raw': 3907539968,\n",
       "  'fmt': '3.91B',\n",
       "  'longFmt': '3,907,539,968'},\n",
       " 'fundInceptionDate': {},\n",
       " 'annualReportExpenseRatio': {},\n",
       " 'totalAssets': {},\n",
       " 'bookValue': {'raw': 7.748, 'fmt': '7.75'},\n",
       " 'sharesShort': {'raw': 98362703, 'fmt': '98.36M', 'longFmt': '98,362,703'},\n",
       " 'sharesPercentSharesOut': {'raw': 0.0247, 'fmt': '2.47%'},\n",
       " 'fundFamily': None,\n",
       " 'lastFiscalYearEnd': {'raw': 1577750400, 'fmt': '2019-12-31'},\n",
       " 'heldPercentInstitutions': {'raw': 0.55063, 'fmt': '55.06%'},\n",
       " 'netIncomeToCommon': {'raw': -2123000064,\n",
       "  'fmt': '-2.12B',\n",
       "  'longFmt': '-2,123,000,064'},\n",
       " 'trailingEps': {'raw': -0.535, 'fmt': '-0.54'},\n",
       " 'lastDividendValue': {},\n",
       " 'SandP52WeekChange': {'raw': 0.13119566, 'fmt': '13.12%'},\n",
       " 'priceToBook': {'raw': 0.90604025, 'fmt': '0.91'},\n",
       " 'heldPercentInsiders': {'raw': 0.00176, 'fmt': '0.18%'},\n",
       " 'nextFiscalYearEnd': {'raw': 1640908800, 'fmt': '2021-12-31'},\n",
       " 'yield': {},\n",
       " 'mostRecentQuarter': {'raw': 1593475200, 'fmt': '2020-06-30'},\n",
       " 'shortRatio': {'raw': 1.76, 'fmt': '1.76'},\n",
       " 'sharesShortPreviousMonthDate': {'raw': 1596153600, 'fmt': '2020-07-31'},\n",
       " 'floatShares': {'raw': 3898144890, 'fmt': '3.9B', 'longFmt': '3,898,144,890'},\n",
       " 'beta': {'raw': 1.323299, 'fmt': '1.32'},\n",
       " 'enterpriseValue': {'raw': 165106728960,\n",
       "  'fmt': '165.11B',\n",
       "  'longFmt': '165,106,728,960'},\n",
       " 'priceHint': {'raw': 2, 'fmt': '2', 'longFmt': '2'},\n",
       " 'threeYearAverageReturn': {},\n",
       " 'lastSplitDate': {'raw': 965260800, 'fmt': '2000-08-03'},\n",
       " 'lastSplitFactor': '1748175:1000000',\n",
       " 'legalType': None,\n",
       " 'morningStarOverallRating': {},\n",
       " 'earningsQuarterlyGrowth': {'raw': 6.547, 'fmt': '654.70%'},\n",
       " 'priceToSalesTrailing12Months': {},\n",
       " 'dateShortInterest': {'raw': 1598832000, 'fmt': '2020-08-31'},\n",
       " 'pegRatio': {'raw': 1.28, 'fmt': '1.28'},\n",
       " 'ytdReturn': {},\n",
       " 'forwardPE': {'raw': 9.887324, 'fmt': '9.89'},\n",
       " 'maxAge': 1,\n",
       " 'lastCapGain': {},\n",
       " 'shortPercentOfFloat': {'raw': 0.0278, 'fmt': '2.78%'},\n",
       " 'sharesShortPriorMonth': {'raw': 115899333,\n",
       "  'fmt': '115.9M',\n",
       "  'longFmt': '115,899,333'},\n",
       " 'category': None,\n",
       " 'fiveYearAverageReturn': {}}"
      ]
     },
     "execution_count": 29,
     "metadata": {},
     "output_type": "execute_result"
    }
   ],
   "source": [
    "json_data['context']['dispatcher']['stores']['QuoteSummaryStore']['defaultKeyStatistics']"
   ]
  },
  {
   "cell_type": "markdown",
   "metadata": {},
   "source": [
    "# Historical Stock Data\n",
    "\n",
    "This data uses a hidden api, as you can see from the \"query\" prefix, the version number (V7), and the variety of parameters."
   ]
  },
  {
   "cell_type": "code",
   "execution_count": 24,
   "metadata": {},
   "outputs": [],
   "source": [
    "stock_url = 'https://query1.finance.yahoo.com/v7/finance/download/F?period1=1568483641&period2=1600106041&interval=1d&events=history'"
   ]
  },
  {
   "cell_type": "code",
   "execution_count": 25,
   "metadata": {},
   "outputs": [],
   "source": [
    "response = requests.get(stock_url)"
   ]
  },
  {
   "cell_type": "code",
   "execution_count": 32,
   "metadata": {},
   "outputs": [
    {
     "name": "stdout",
     "output_type": "stream",
     "text": [
      "['Date', 'Open', 'High', 'Low', 'Close', 'Adj Close', 'Volume']\n",
      "['2019-09-16', '9.360000', '9.450000', '9.240000', '9.300000', '8.996831', '50052600']\n",
      "['2019-09-17', '9.270000', '9.310000', '9.180000', '9.280000', '8.977483', '27391200']\n",
      "['2019-09-18', '9.260000', '9.360000', '9.220000', '9.250000', '8.948462', '24309400']\n",
      "['2019-09-19', '9.310000', '9.330000', '9.100000', '9.100000', '8.803351', '28780700']\n"
     ]
    }
   ],
   "source": [
    "# extract the csv data\n",
    "file = StringIO(response.text)\n",
    "reader = csv.reader(file)\n",
    "data = list(reader)\n",
    "\n",
    "# show the first 5 records\n",
    "for row in data[:5]:\n",
    "    print(row)"
   ]
  },
  {
   "cell_type": "markdown",
   "metadata": {},
   "source": [
    "You can start to customize this by pulling out the parameters from the URL and putting them into a dictionary. "
   ]
  },
  {
   "cell_type": "code",
   "execution_count": 26,
   "metadata": {},
   "outputs": [],
   "source": [
    "stock_url = 'https://query1.finance.yahoo.com/v7/finance/download/{}?'\n",
    "\n",
    "params = {\n",
    "    'period1':'1568483641',\n",
    "    'period2':'1600106041',\n",
    "    'interval':'1d',\n",
    "    'events':'history'\n",
    "}"
   ]
  },
  {
   "cell_type": "markdown",
   "metadata": {},
   "source": [
    "By inspecting the request headers and parameters online, it's possible to see how this can be simplified further... by using the range parameter instead of the periods."
   ]
  },
  {
   "cell_type": "code",
   "execution_count": 27,
   "metadata": {},
   "outputs": [],
   "source": [
    "params = {\n",
    "    'range': '5y',\n",
    "    'interval':'1d',\n",
    "    'events':'history'\n",
    "}"
   ]
  },
  {
   "cell_type": "code",
   "execution_count": 28,
   "metadata": {},
   "outputs": [],
   "source": [
    "response = requests.get(stock_url.format(stock), params=params)"
   ]
  },
  {
   "cell_type": "code",
   "execution_count": 36,
   "metadata": {},
   "outputs": [
    {
     "name": "stdout",
     "output_type": "stream",
     "text": [
      "['Date', 'Open', 'High', 'Low', 'Close', 'Adj Close', 'Volume']\n",
      "['2015-09-17', '14.610000', '14.880000', '14.460000', '14.600000', '11.432008', '37709000']\n",
      "['2015-09-18', '14.440000', '14.480000', '14.210000', '14.280000', '11.181444', '40712200']\n",
      "['2015-09-21', '14.200000', '14.430000', '14.150000', '14.320000', '11.212765', '20764100']\n",
      "['2015-09-22', '14.010000', '14.050000', '13.730000', '13.920000', '10.899560', '44081000']\n"
     ]
    }
   ],
   "source": [
    "# extract the csv data\n",
    "file = StringIO(response.text)\n",
    "reader = csv.reader(file)\n",
    "data = list(reader)\n",
    "\n",
    "# show the first 5 records\n",
    "for row in data[:5]:\n",
    "    print(row)"
   ]
  }
 ],
 "metadata": {
  "kernelspec": {
   "name": "python385jvsc74a57bd04ba26a050f5f5d2b80cbb0cd75eb946ae3c7bce1b72f63a407d7eaac2619bc68",
   "display_name": "Python 3.8.5 64-bit"
  },
  "language_info": {
   "codemirror_mode": {
    "name": "ipython",
    "version": 3
   },
   "file_extension": ".py",
   "mimetype": "text/x-python",
   "name": "python",
   "nbconvert_exporter": "python",
   "pygments_lexer": "ipython3",
   "version": "3.8.5"
  }
 },
 "nbformat": 4,
 "nbformat_minor": 4
}